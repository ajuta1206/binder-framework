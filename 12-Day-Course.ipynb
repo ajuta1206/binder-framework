{
 "cells": [
  {
   "cell_type": "code",
   "execution_count": null,
   "id": "e21bceae",
   "metadata": {},
   "outputs": [],
   "source": [
    "import pandas as pd\n",
    "import matplotlib.pyplot as plt\n",
    "import numpy as np"
   ]
  },
  {
   "cell_type": "code",
   "execution_count": null,
   "id": "f4062df1",
   "metadata": {},
   "outputs": [],
   "source": [
    "# Update the file location \n",
    "df = pd.read_csv(r"Value_of_Energy_Cost_Savings_Program_Savings_for_Businesses_-_FY2020.csv")"
   ]
  },
  {
   "cell_type": "code",
   "execution_count": null,
   "id": "154b0516",
   "metadata": {},
   "outputs": [],
   "source": [
    "#Total number of different companies represented in the data set\n",
    "\n",
    "companies = df['Company Name'].unique()\n",
    "print(len(companies))"
   ]
  },
  {
   "cell_type": "code",
   "execution_count": null,
   "id": "144e6be4",
   "metadata": {},
   "outputs": [],
   "source": [
    "#Number of different unique email domains names in the data set\n",
    "\n",
    "df[['email name','email domain']] = df['company email'].str.split('@', 1, expand=True)\n",
    "unique_domain = df['email domain'].dropna().unique()\n",
    "print(len(unique_domain))"
   ]
  },
  {
   "cell_type": "code",
   "execution_count": null,
   "id": "7b7e1091",
   "metadata": {},
   "outputs": [],
   "source": [
    "#total number of jobs created for businesses in Queens\n",
    "\n",
    "borough = df.groupby('Borough')\n",
    "queens = borough.get_group('Queens')\n",
    "num_jobs = queens['Job created'].sum()\n",
    "print(num_jobs)"
   ]
  },
  {
   "cell_type": "code",
   "execution_count": null,
   "id": "70c218f4",
   "metadata": {},
   "outputs": [],
   "source": [
    "#Considering only NTAs with at least 5 listed businesses, the average total savings and the total jobs created for each NTA\n",
    "\n",
    "NTA_counts = df['NTA'].value_counts()\n",
    "nta_more_than_5 = NTA_counts[NTA_counts>=5].index\n",
    "filtered_df = df[df['NTA'].isin(nta_more_than_5)]\n",
    "average_total_savings = filtered_df.groupby('NTA')['Total Savings'].mean()\n",
    "total_jobs_NTA = filtered_df.groupby('NTA')['Job created'].sum()\n"
   ]
  },
  {
   "cell_type": "code",
   "execution_count": null,
   "id": "24942029",
   "metadata": {},
   "outputs": [],
   "source": [
    "#Save your result for the previous question as a CSV file.\n",
    "\n",
    "ans_day4 = pd.DataFrame({'Average total savings per NTA': average_total_savings, 'Total jobs created in each NTA': total_jobs_NTA})\n",
    "ans_day4.to_csv('Result_day4.csv', index=True)"
   ]
  },
  {
   "cell_type": "code",
   "execution_count": null,
   "id": "67364790",
   "metadata": {},
   "outputs": [],
   "source": [
    "#scatter plot of jobs created versus average savings. Use both a standard and a logarithmic scale for the average savings\n",
    "fig, ax = plt.subplots()\n",
    "\n",
    "plt.scatter(ans_day4['Total jobs created in each NTA'], ans_day4['Average total savings per NTA'])\n",
    "plt.xlabel('Job created')\n",
    "plt.ylabel('Average savings')\n",
    "\n",
    "# for log scale\n",
    "\n",
    "#plt.xscale('log')\n",
    "#plt.yscale('log')\n",
    "\n",
    "plt.show()"
   ]
  },
  {
   "cell_type": "code",
   "execution_count": null,
   "id": "3435e03c",
   "metadata": {},
   "outputs": [],
   "source": [
    "#histogram of the log of the average total savings.\n",
    "\n",
    "log_averageSavings = np.log(ans_day4['Average total savings per NTA'])\n",
    "fig = plt.subplots()\n",
    "plt.hist(log_averageSavings, bins=20)\n",
    "plt.show()"
   ]
  },
  {
   "cell_type": "code",
   "execution_count": null,
   "id": "fa92d068",
   "metadata": {},
   "outputs": [],
   "source": [
    "#line plot of the total jobs created for each month.\n",
    "\n",
    "df['Effective Date'] = pd.to_datetime(df['Effective Date'])\n",
    "df['month'] = df['Effective Date'].dt.month\n",
    "fig = plt.subplots()\n",
    "jobs_created_month = df.groupby('month')['Job created'].sum()\n",
    "months = jobs_created_month.index\n",
    "month = ['jan', 'feb', 'march', 'april', 'may', 'june', 'july', 'aug', 'sep', 'oct', 'nov', 'dec']\n",
    "plt.plot(month,jobs_created_month,marker='o')\n",
    "\n",
    "plt.xticks(rotation = 45)"
   ]
  }
 ],
 "metadata": {
  "kernelspec": {
   "display_name": "Python 3 (ipykernel)",
   "language": "python",
   "name": "python3"
  },
  "language_info": {
   "codemirror_mode": {
    "name": "ipython",
    "version": 3
   },
   "file_extension": ".py",
   "mimetype": "text/x-python",
   "name": "python",
   "nbconvert_exporter": "python",
   "pygments_lexer": "ipython3",
   "version": "3.9.13"
  }
 },
 "nbformat": 4,
 "nbformat_minor": 5
}
